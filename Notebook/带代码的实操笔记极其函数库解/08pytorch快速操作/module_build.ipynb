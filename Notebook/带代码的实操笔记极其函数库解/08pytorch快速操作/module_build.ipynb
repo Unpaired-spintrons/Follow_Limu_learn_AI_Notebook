{
 "cells": [
  {
   "cell_type": "markdown",
   "metadata": {},
   "source": [
    "# 模型构造"
   ]
  },
  {
   "cell_type": "markdown",
   "metadata": {},
   "source": [
    "## 层和块"
   ]
  },
  {
   "cell_type": "code",
   "execution_count": 2,
   "metadata": {},
   "outputs": [],
   "source": [
    "import torch as tor\n",
    "from torch import nn as tor_nn\n",
    "from torch.nn import functional as tor_nn_F # 定义了一些函数"
   ]
  },
  {
   "cell_type": "code",
   "execution_count": 10,
   "metadata": {},
   "outputs": [
    {
     "data": {
      "text/plain": [
       "tensor([[-0.0302, -0.1014,  0.0653, -0.1320, -0.0345,  0.0803, -0.1082,  0.0570,\n",
       "          0.1802, -0.1400],\n",
       "        [-0.0350, -0.0733,  0.0675, -0.1960,  0.0730,  0.0117, -0.0802,  0.1508,\n",
       "          0.2768, -0.1608]], grad_fn=<AddmmBackward0>)"
      ]
     },
     "execution_count": 10,
     "metadata": {},
     "output_type": "execute_result"
    }
   ],
   "source": [
    "net = tor_nn.Sequential(\n",
    "    tor_nn.Linear(20, 256),tor_nn.ReLU(),\n",
    "    tor_nn.Linear(256, 10)\n",
    ")\n",
    "\n",
    "X = tor.rand(2, 20)\n",
    "net(X)"
   ]
  },
  {
   "cell_type": "markdown",
   "metadata": {},
   "source": [
    "接下来是一个自定义的module，操作效果同上"
   ]
  },
  {
   "cell_type": "code",
   "execution_count": 8,
   "metadata": {},
   "outputs": [],
   "source": [
    "class MLP(tor_nn.Module):\n",
    "    def __init__(self):\n",
    "        super().__init__() # 父类初始化完成\n",
    "        self.hidden = tor_nn.Linear(20, 256)\n",
    "        self.out    = tor_nn.Linear(256, 10)\n",
    "    \n",
    "    def forward(self, X):\n",
    "        return self.out(tor_nn_F.relu(self.hidden(X)))"
   ]
  },
  {
   "cell_type": "code",
   "execution_count": 9,
   "metadata": {},
   "outputs": [
    {
     "data": {
      "text/plain": [
       "tensor([[ 0.2731, -0.1674, -0.0592, -0.2217,  0.2423,  0.0400, -0.0419, -0.0402,\n",
       "          0.2909,  0.0204],\n",
       "        [ 0.2150, -0.0593, -0.2110, -0.2889,  0.0415,  0.1299,  0.0559, -0.0840,\n",
       "          0.1427,  0.1782]], grad_fn=<AddmmBackward0>)"
      ]
     },
     "execution_count": 9,
     "metadata": {},
     "output_type": "execute_result"
    }
   ],
   "source": [
    "net = MLP()\n",
    "net(X)"
   ]
  },
  {
   "cell_type": "markdown",
   "metadata": {},
   "source": [
    "注意，这里的大小权重任意，所以输出的值就会有所不同，但是有一点是十分重要的，就是输出的形状并未改变"
   ]
  },
  {
   "cell_type": "markdown",
   "metadata": {},
   "source": [
    "### 自己的nn.Sequential"
   ]
  },
  {
   "cell_type": "code",
   "execution_count": 11,
   "metadata": {},
   "outputs": [],
   "source": [
    "class MySequential(tor_nn.Module):\n",
    "    def __init__(self, *args):\n",
    "        super().__init__()\n",
    "        for block in args:\n",
    "            self._modules[block] = block\n",
    "    \n",
    "    def forward(self, X):\n",
    "        for block in self._modules.values():\n",
    "            X = block(X)\n",
    "        return X"
   ]
  },
  {
   "cell_type": "code",
   "execution_count": 12,
   "metadata": {},
   "outputs": [
    {
     "data": {
      "text/plain": [
       "tensor([[ 0.0464,  0.3002, -0.1377, -0.1848, -0.1139, -0.2025, -0.1029,  0.2463,\n",
       "          0.2105, -0.0694],\n",
       "        [ 0.1102,  0.1862, -0.2201, -0.1519, -0.0805, -0.1791, -0.1531,  0.3277,\n",
       "          0.1983, -0.1483]], grad_fn=<AddmmBackward0>)"
      ]
     },
     "execution_count": 12,
     "metadata": {},
     "output_type": "execute_result"
    }
   ],
   "source": [
    "net = MySequential(\n",
    "    tor_nn.Linear(20, 256),tor_nn.ReLU(),\n",
    "    tor_nn.Linear(256, 10)\n",
    ")\n",
    "net(X)"
   ]
  },
  {
   "cell_type": "markdown",
   "metadata": {},
   "source": [
    "从中我们可以发现一个有趣的事实就是：我们会高频的使用forward，并且令人惊奇的一点就是我们传入的数据X都被forward直接调用了！\n",
    "\n",
    "由此，我们可以获得一个思路：我们其实传入的数据的操作是与forward深度绑定的，我们可以直接将我们的数据操作放到forward中形成我们的自定义！，看看下面这个操作"
   ]
  },
  {
   "cell_type": "code",
   "execution_count": 13,
   "metadata": {},
   "outputs": [],
   "source": [
    "class FixedHiddenMLP(tor_nn.Module):\n",
    "    def __init__(self) -> None:\n",
    "        super().__init__()\n",
    "        self.rand_weight = tor.rand((20, 20), requires_grad=False)\n",
    "        self.linear = tor_nn.Linear(20, 20)\n",
    "    \n",
    "    def forward(self, X):\n",
    "        X = self.linear(X)\n",
    "        X = tor_nn_F.relu(tor.mm(X, self.rand_weight) + 1)\n",
    "        X = self.linear(X)\n",
    "        while X.abs().sum() > 1:\n",
    "            X /= 2\n",
    "        return X.sum()"
   ]
  },
  {
   "cell_type": "markdown",
   "metadata": {},
   "source": [
    "我们可以看到我们通过修改forward获得了多样的体验！！！"
   ]
  },
  {
   "cell_type": "code",
   "execution_count": 18,
   "metadata": {},
   "outputs": [
    {
     "data": {
      "text/plain": [
       "tensor(0.4095, grad_fn=<SumBackward0>)"
      ]
     },
     "execution_count": 18,
     "metadata": {},
     "output_type": "execute_result"
    }
   ],
   "source": [
    "net = FixedHiddenMLP()\n",
    "net(X)"
   ]
  },
  {
   "cell_type": "markdown",
   "metadata": {},
   "source": [
    "### 套娃玩法"
   ]
  },
  {
   "cell_type": "code",
   "execution_count": 19,
   "metadata": {},
   "outputs": [],
   "source": [
    "class NestMLP(tor_nn.Module):\n",
    "    def __init__(self) -> None:\n",
    "        super().__init__()\n",
    "        self.net = tor_nn.Sequential(\n",
    "            tor_nn.Linear(20, 64), tor_nn.ReLU(),\n",
    "            tor_nn.Linear(64, 32), tor_nn.ReLU()\n",
    "        )\n",
    "        self.linear = tor_nn.Linear(32, 16)\n",
    "    \n",
    "    def forward(self, X):\n",
    "        return self.linear(self.net(X))"
   ]
  },
  {
   "cell_type": "code",
   "execution_count": 21,
   "metadata": {},
   "outputs": [
    {
     "data": {
      "text/plain": [
       "tensor(0.3665, grad_fn=<SumBackward0>)"
      ]
     },
     "execution_count": 21,
     "metadata": {},
     "output_type": "execute_result"
    }
   ],
   "source": [
    "chimera = tor_nn.Sequential(NestMLP(), tor_nn.Linear(16, 20), FixedHiddenMLP())\n",
    "chimera(X)"
   ]
  }
 ],
 "metadata": {
  "kernelspec": {
   "display_name": "d2l-limurequire",
   "language": "python",
   "name": "python3"
  },
  "language_info": {
   "codemirror_mode": {
    "name": "ipython",
    "version": 3
   },
   "file_extension": ".py",
   "mimetype": "text/x-python",
   "name": "python",
   "nbconvert_exporter": "python",
   "pygments_lexer": "ipython3",
   "version": "3.8.18"
  }
 },
 "nbformat": 4,
 "nbformat_minor": 2
}
