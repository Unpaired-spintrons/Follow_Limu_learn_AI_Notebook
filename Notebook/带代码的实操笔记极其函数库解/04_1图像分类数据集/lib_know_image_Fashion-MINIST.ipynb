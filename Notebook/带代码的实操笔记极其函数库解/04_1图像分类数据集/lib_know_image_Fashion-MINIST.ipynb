{
 "cells": [
  {
   "cell_type": "markdown",
   "metadata": {},
   "source": [
    "# Lib库解"
   ]
  },
  {
   "cell_type": "code",
   "execution_count": 1,
   "metadata": {},
   "outputs": [],
   "source": [
    "%matplotlib inline\n",
    "import torch as tor\n",
    "import torchvision as tor_vision\n",
    "from torch.utils import data as tor_utils_data\n",
    "from torchvision import transforms as tor_vision_tf\n",
    "from d2l import torch as tor_d2l\n",
    "\n",
    "tor_d2l.use_svg_display()"
   ]
  },
  {
   "cell_type": "markdown",
   "metadata": {},
   "source": [
    "导个库先"
   ]
  },
  {
   "cell_type": "markdown",
   "metadata": {},
   "source": [
    "## from torchvision import transforms(**tor_vision_tf**)"
   ]
  },
  {
   "cell_type": "markdown",
   "metadata": {},
   "source": [
    "### tor_vision_tf.ToTensor()"
   ]
  },
  {
   "cell_type": "code",
   "execution_count": 2,
   "metadata": {},
   "outputs": [],
   "source": [
    "trans = tor_vision_tf.ToTensor() #做一个最简单的预处理，将transformer的转化为Tensor供torch使用"
   ]
  },
  {
   "cell_type": "markdown",
   "metadata": {},
   "source": [
    "- 函数名称：tor_vision_tf.ToTensor()\n",
    "- 函数作用：转换变量为一个torch_Tensor\n",
    "- 函数输入：无\n",
    "- 函数输出：输出一个转换为torch_Temsor的变量\n",
    "- 函数依赖：无"
   ]
  },
  {
   "cell_type": "markdown",
   "metadata": {},
   "source": [
    "## import torchvision(**tor_vision**)"
   ]
  },
  {
   "cell_type": "markdown",
   "metadata": {},
   "source": [
    "### tor_vision.datasets.FashionMNIST()"
   ]
  },
  {
   "cell_type": "code",
   "execution_count": 4,
   "metadata": {},
   "outputs": [],
   "source": [
    "trans = tor_vision.datasets.FashionMNIST(root=\"../data\",train=True ,transform=trans,download=True)"
   ]
  },
  {
   "cell_type": "markdown",
   "metadata": {},
   "source": [
    "- 函数名称：FashionMNIST\n",
    "- 函数作用：就是一个导入FashionMNIST数据集\n",
    "- 函数输入：无\n",
    "- 函数输出：数据集FashionMNIST\n",
    "- 函数依赖：整个包和链接\n",
    "- 函数参数：root(存储地址),train(是否为训练集),transform(转换方法),download(是否下载)"
   ]
  },
  {
   "cell_type": "markdown",
   "metadata": {},
   "source": [
    "## 原生python"
   ]
  },
  {
   "cell_type": "markdown",
   "metadata": {},
   "source": [
    "### flatten()"
   ]
  },
  {
   "cell_type": "code",
   "execution_count": 5,
   "metadata": {},
   "outputs": [
    {
     "data": {
      "text/plain": [
       "tensor([1, 2, 3, 5, 6, 7])"
      ]
     },
     "execution_count": 5,
     "metadata": {},
     "output_type": "execute_result"
    }
   ],
   "source": [
    "ma = tor.tensor([[1,2,3],[5,6,7]])\n",
    "ma = ma.flatten()\n",
    "ma"
   ]
  },
  {
   "cell_type": "markdown",
   "metadata": {},
   "source": [
    "- 函数名称：flatten()\n",
    "- 函数作用：用于展平数据表\n",
    "- 函数输入：无\n",
    "- 函数输出：展平数据表\n",
    "- 函数依赖：某个矩阵\n",
    "- 函数参数：unknown"
   ]
  },
  {
   "cell_type": "code",
   "execution_count": 9,
   "metadata": {},
   "outputs": [
    {
     "data": {
      "text/plain": [
       "<zip at 0x1e0a1ac4300>"
      ]
     },
     "execution_count": 9,
     "metadata": {},
     "output_type": "execute_result"
    }
   ],
   "source": [
    "mb = tor.tensor([1,2,3,5,6,7])\n",
    "\n",
    "mc = zip(ma,mb)\n",
    "mc"
   ]
  },
  {
   "cell_type": "markdown",
   "metadata": {},
   "source": [
    "- 函数名称：zip(a,b)\n",
    "- 函数作用：将a和b打包为元组\n",
    "- 函数输入：要打包的数据a与b\n",
    "- 函数输出：打包好的一个地址指针\n",
    "- 函数依赖：无\n",
    "- 函数参数：ukonwn"
   ]
  }
 ],
 "metadata": {
  "kernelspec": {
   "display_name": "d2l-zh-gpu",
   "language": "python",
   "name": "python3"
  },
  "language_info": {
   "codemirror_mode": {
    "name": "ipython",
    "version": 3
   },
   "file_extension": ".py",
   "mimetype": "text/x-python",
   "name": "python",
   "nbconvert_exporter": "python",
   "pygments_lexer": "ipython3",
   "version": "3.8.18"
  }
 },
 "nbformat": 4,
 "nbformat_minor": 2
}
