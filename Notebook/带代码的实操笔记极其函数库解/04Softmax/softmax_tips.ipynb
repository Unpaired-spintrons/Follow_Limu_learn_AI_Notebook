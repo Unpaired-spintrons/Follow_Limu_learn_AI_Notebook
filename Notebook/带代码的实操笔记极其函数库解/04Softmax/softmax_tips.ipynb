{
 "cells": [
  {
   "cell_type": "markdown",
   "metadata": {},
   "source": [
    "# Softmax Tips"
   ]
  },
  {
   "cell_type": "markdown",
   "metadata": {},
   "source": [
    "## softlabel"
   ]
  },
  {
   "cell_type": "markdown",
   "metadata": {},
   "source": [
    "在我们进行训练的时候我们可以发现就是我们的数据其实是很难做到不是这个类别时值为0，是这个类别时值就直接飙到1，这个在自然中是很难出现的，未来防止训练过度，所以我们有一个策略就是使得数据更为“宽容”，我们将正确的要求降低到0.9，其余的其他(n-1)个类就作为$\\frac{0.1}{n-1}$这样可以某种程度上有效我们的模型，更快达到要求。"
   ]
  },
  {
   "cell_type": "markdown",
   "metadata": {},
   "source": [
    "## softmax回归 vs logistic回归"
   ]
  },
  {
   "cell_type": "markdown",
   "metadata": {},
   "source": [
    "logistic回归是二分类(1与-1)\n",
    "\n",
    "softmax是多分类"
   ]
  },
  {
   "cell_type": "markdown",
   "metadata": {},
   "source": [
    "## 为什么用交叉熵不用相对熵"
   ]
  },
  {
   "cell_type": "markdown",
   "metadata": {},
   "source": [
    "相对熵太难算"
   ]
  },
  {
   "cell_type": "markdown",
   "metadata": {},
   "source": [
    "## Windows多线程不可用"
   ]
  },
  {
   "cell_type": "markdown",
   "metadata": {},
   "source": []
  }
 ],
 "metadata": {
  "language_info": {
   "name": "python"
  }
 },
 "nbformat": 4,
 "nbformat_minor": 2
}
