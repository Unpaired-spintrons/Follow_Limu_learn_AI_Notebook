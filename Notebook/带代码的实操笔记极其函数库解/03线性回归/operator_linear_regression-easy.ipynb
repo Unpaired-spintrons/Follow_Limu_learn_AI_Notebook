{
 "cells": [
  {
   "cell_type": "markdown",
   "metadata": {},
   "source": [
    "# 简介实现线性回归-实操笔记"
   ]
  },
  {
   "cell_type": "markdown",
   "metadata": {},
   "source": [
    "这个其实相比于之前那个从零实现其实区别就在于这个是采用了torch的库的，而之前那个是没有使用太多的torch自己的求导和模型使用函数的"
   ]
  },
  {
   "cell_type": "markdown",
   "metadata": {},
   "source": [
    "## 导入库--自动生成人造数据集"
   ]
  },
  {
   "cell_type": "code",
   "execution_count": 1,
   "metadata": {},
   "outputs": [],
   "source": [
    "import numpy as np\n",
    "import torch as tor\n",
    "from torch.utils import data as tor_u_data\n",
    "from d2l import torch as tor_d2l\n",
    "\n",
    "true_w = tor.tensor([2, -3.4])\n",
    "true_b = 4.2\n",
    "featrues, labels = tor_d2l.synthetic_data(true_w, true_b, 1000)"
   ]
  },
  {
   "cell_type": "markdown",
   "metadata": {},
   "source": [
    "这一步就是我们采用方法生成人造数据集的方法"
   ]
  },
  {
   "cell_type": "markdown",
   "metadata": {},
   "source": [
    "## 调用现有API框架读取数据集"
   ]
  },
  {
   "cell_type": "code",
   "execution_count": 2,
   "metadata": {},
   "outputs": [
    {
     "data": {
      "text/plain": [
       "[tensor([[-0.5885,  0.5512],\n",
       "         [-0.0603,  0.1598],\n",
       "         [ 0.4254, -1.0167],\n",
       "         [ 0.5744,  0.5323],\n",
       "         [-0.8593,  0.5564],\n",
       "         [-1.2283, -1.1211],\n",
       "         [-0.2989,  0.5893],\n",
       "         [-1.0152,  0.8133],\n",
       "         [ 0.9207, -1.2001],\n",
       "         [-1.8483,  1.3435]]),\n",
       " tensor([[ 1.1303],\n",
       "         [ 3.5304],\n",
       "         [ 8.5162],\n",
       "         [ 3.5365],\n",
       "         [ 0.5911],\n",
       "         [ 5.5554],\n",
       "         [ 1.5925],\n",
       "         [-0.5994],\n",
       "         [10.1119],\n",
       "         [-4.0785]])]"
      ]
     },
     "execution_count": 2,
     "metadata": {},
     "output_type": "execute_result"
    }
   ],
   "source": [
    "def load_array(data_arrays, batch_size, is_train = True):\n",
    "    \"\"\"构造一个PyTorch数据迭代器\"\"\"\n",
    "    dataset = tor_u_data.TensorDataset(*data_arrays)                    # 将数据据转化为适合torch.utils.data进行操作的类型\n",
    "    return tor_u_data.DataLoader(dataset, batch_size, shuffle=is_train) # 是一个装载器，其实就是进行之前那个洗牌操作，搞池化的操作\n",
    "\n",
    "batch_size = 10\n",
    "data_iter = load_array((featrues, labels), batch_size)\n",
    "\n",
    "next(iter(data_iter))                                                   # next是返回下一个迭代对象，而iter是生成迭代对象"
   ]
  },
  {
   "cell_type": "markdown",
   "metadata": {},
   "source": [
    "## 使用框架预定义好的层"
   ]
  },
  {
   "cell_type": "code",
   "execution_count": 3,
   "metadata": {},
   "outputs": [],
   "source": [
    "# 'nn' 是一个神经网络的缩写neural network\n",
    "from torch import nn as tor_nn\n",
    "\n",
    "net = tor_nn.Sequential(tor_nn.Linear(2,1)) # Sequential是作为一个容器，就是说取装不同结构的圣经网络所进行的一个容器，里面可以一层层装不同的神经网络。Linear就是线性回归神经网络2是输入的单个数据的维度，1是输出维度"
   ]
  },
  {
   "cell_type": "markdown",
   "metadata": {},
   "source": [
    "### 初始化模型参数"
   ]
  },
  {
   "cell_type": "code",
   "execution_count": 4,
   "metadata": {},
   "outputs": [
    {
     "data": {
      "text/plain": [
       "tensor([0.])"
      ]
     },
     "execution_count": 4,
     "metadata": {},
     "output_type": "execute_result"
    }
   ],
   "source": [
    "net[0].weight.data.normal_(0, 0.01)\n",
    "net[0].bias.data.fill_(0)"
   ]
  },
  {
   "cell_type": "markdown",
   "metadata": {},
   "source": [
    "### 损失函数计算"
   ]
  },
  {
   "cell_type": "markdown",
   "metadata": {},
   "source": [
    "#### 均方误差使用MSELoss 【平方 $L_2$ 范数】"
   ]
  },
  {
   "cell_type": "code",
   "execution_count": 5,
   "metadata": {},
   "outputs": [],
   "source": [
    "loss = tor_nn.MSELoss()"
   ]
  },
  {
   "cell_type": "markdown",
   "metadata": {},
   "source": [
    "#### 实例化SGD(随机下降找最好)"
   ]
  },
  {
   "cell_type": "code",
   "execution_count": 6,
   "metadata": {},
   "outputs": [],
   "source": [
    "trainer = tor.optim.SGD(net.parameters(), lr=0.03) # optim 就是optimizer 优化器"
   ]
  },
  {
   "cell_type": "markdown",
   "metadata": {},
   "source": [
    "## 开始训练啦"
   ]
  },
  {
   "cell_type": "code",
   "execution_count": 10,
   "metadata": {},
   "outputs": [
    {
     "name": "stdout",
     "output_type": "stream",
     "text": [
      "epoch 1, loss0.000102\n",
      "epoch 2, loss0.000103\n",
      "epoch 3, loss0.000102\n"
     ]
    }
   ],
   "source": [
    "num_epochs = 3\n",
    "for epoch in range(num_epochs):\n",
    "    for X, y in data_iter:\n",
    "        l = loss(net(X), y)\n",
    "        trainer.zero_grad()\n",
    "        l.backward()\n",
    "        trainer.step()\n",
    "    l = loss(net(featrues), labels)\n",
    "    print(f'epoch {epoch + 1}, loss{l:f}') # l 是L的小写"
   ]
  },
  {
   "cell_type": "code",
   "execution_count": 9,
   "metadata": {},
   "outputs": [
    {
     "name": "stdout",
     "output_type": "stream",
     "text": [
      "w的估计误差： tensor([-0.0007, -0.0003])\n",
      "b的估计误差： tensor([-7.6771e-05])\n"
     ]
    },
    {
     "data": {
      "text/plain": [
       "(tensor([[ 2.0007, -3.3997]]), tensor([4.2001]))"
      ]
     },
     "execution_count": 9,
     "metadata": {},
     "output_type": "execute_result"
    }
   ],
   "source": [
    "w = net[0].weight.data\n",
    "print('w的估计误差：', true_w - w.reshape(true_w.shape))\n",
    "b = net[0].bias.data\n",
    "print('b的估计误差：', true_b - b)\n",
    "w, b"
   ]
  }
 ],
 "metadata": {
  "kernelspec": {
   "display_name": "d2l-zh-gpu",
   "language": "python",
   "name": "python3"
  },
  "language_info": {
   "codemirror_mode": {
    "name": "ipython",
    "version": 3
   },
   "file_extension": ".py",
   "mimetype": "text/x-python",
   "name": "python",
   "nbconvert_exporter": "python",
   "pygments_lexer": "ipython3",
   "version": "3.8.18"
  }
 },
 "nbformat": 4,
 "nbformat_minor": 2
}
